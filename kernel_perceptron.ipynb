{
 "cells": [
  {
   "cell_type": "markdown",
   "metadata": {},
   "source": [
    "# Kernel Perceptron\n",
    "Using kernels in perceptrons is an advanced technique that extends the capabilities of traditional linear perceptrons by allowing them to handle non-linearly separable data. In many real-world problems, the data is not linearly separable. To address this, we can use the kernel trick to transform the data into a higher-dimensional space where it becomes linearly separable. This is where the concept of kernels comes into play.\n",
    "\n",
    "A **kernel perceptron** is an extension of the classical **perceptron algorithm**, which is used in machine learning for binary classification tasks. The kernel perceptron applies the **kernel trick**, allowing it to handle non-linearly separable data by implicitly mapping the input data into a higher-dimensional space without explicitly computing the mapping.\n",
    "\n",
    "Here's how it works:\n",
    "\n",
    "### 1. **Perceptron Basics:**\n",
    "   - A **perceptron** is a simple linear classifier that tries to find a hyperplane separating two classes. It works well when the data is linearly separable (i.e., can be separated by a straight line in two dimensions, or a hyperplane in higher dimensions).\n",
    "   - For non-linearly separable data, the perceptron struggles because it can’t find a linear boundary."
   ]
  },
  {
   "cell_type": "markdown",
   "metadata": {},
   "source": [
    "### What is a kernel?\n",
    "A kernel is a function that maps the input data to a higher dimensional space. It allows us to solve non linear real-world problems."
   ]
  },
  {
   "cell_type": "markdown",
   "metadata": {},
   "source": [
    "\n",
    "\n",
    "### 2. **Kernel Trick:**\n",
    "   The kernel trick surpasses the otherwise necessary matrix transformation of the whole dataset by only considering the relations between all pairs of data points. \n",
    "   Common kernels include the **linear kernel** **polynomial kernel** and the **radial basis function (RBF)** kernel.\n",
    "\n",
    "### 3. **Kernel Perceptron Algorithm:**\n",
    "   - In the **kernel perceptron**, instead of using a simple linear decision rule, the algorithm computes the decision boundary based on the kernel function. This allows it to classify data that is not linearly separable in the original feature space but can be separated in a transformed feature space."
   ]
  },
  {
   "cell_type": "markdown",
   "metadata": {},
   "source": [
    "Common kernels are:\n",
    "- Linear Kernel: $$ K(\\mathbf{x}_1,\\mathbf{x}_2) = \\mathbf{x}_1.\\mathbf{x}_2 = \\mathbf{x}^T\\cdot \\mathbf{x} $$\n",
    "- Polynomial Kernel: $$ K(\\mathbf{x}_1, \\mathbf{x}_2) = (\\mathbf{x}_1 \\cdot \\mathbf{x}_2 + c)^d = (\\mathbf{x}^T \\cdot \\mathbf{x} + c)^d $$\n",
    "- Gaussian Radial Basis Function (RBF): $$ K(\\mathbf{x}_1, \\mathbf{x}_2) = \\exp\\left(-\\gamma \\cdot \\|\\mathbf{x}_1 - \\mathbf{x}_2\\|^2\\right) $$"
   ]
  },
  {
   "cell_type": "markdown",
   "metadata": {},
   "source": [
    "### 4. **Implementation**"
   ]
  },
  {
   "cell_type": "markdown",
   "metadata": {},
   "source": [
    "### Importing Needed Libraries"
   ]
  },
  {
   "cell_type": "code",
   "execution_count": 1,
   "metadata": {},
   "outputs": [],
   "source": [
    "import numpy as np\n"
   ]
  },
  {
   "cell_type": "markdown",
   "metadata": {},
   "source": [
    "### Linear Kernel\n",
    "The linear kernel is the simplest form of a kernel function and is often used when the data is linearly separable. It simply computes the dot product between two vectors, meaning it does not transform the data into a higher-dimensional space."
   ]
  },
  {
   "cell_type": "markdown",
   "metadata": {},
   "source": [
    "Code:"
   ]
  },
  {
   "cell_type": "code",
   "execution_count": 2,
   "metadata": {},
   "outputs": [],
   "source": [
    "def linear_kernel(x1, x2):\n",
    "    return np.dot(x1, x2)"
   ]
  },
  {
   "cell_type": "markdown",
   "metadata": {},
   "source": [
    "### Polynomial Kernel\n",
    "The polynomial kernel is a popular kernel function used in machine learning, particularly in support vector machines (SVMs) and kernelized perceptrons. The polynomial kernel allows the algorithm to fit more complex, non-linear decision boundaries.\n",
    "$$\n",
    "K(\\mathbf{x}_1, \\mathbf{x}_2) = (\\mathbf{x}_1 \\cdot \\mathbf{x}_2 + c)^d\n",
    "$$"
   ]
  },
  {
   "cell_type": "markdown",
   "metadata": {},
   "source": [
    "In the **polynomial kernel** used in machine learning, the parameters **`degree`** and **`coef0`** control the complexity and flexibility of the kernel. Here's what they represent:\n",
    "\n",
    "### 1. **Degree** (`degree`):\n",
    "   - The **`degree`** parameter refers to the degree of the polynomial function used in the kernel.\n",
    "   - It determines the **order of the polynomial** and, consequently, the complexity of the decision boundary.\n",
    "   - The formula for the polynomial kernel is:\n",
    "     $$ K(x_1, x_2) = (x_1 \\cdot x_2 + \\text{coef0})^{\\text{degree}} $$\n",
    "     where $ \\mathbf{x}_1 \\cdot \\mathbf{x}_2 $ is the dot product of the vectors $\\mathbf{x}_1$ and $\\mathbf{x}_2$, and **`coef0`** is an additional constant.\n",
    "\n",
    "### 2. **Coef0** (`coef0`):\n",
    "   - The **`coef0`** parameter is a constant that controls the influence of higher-order terms in the polynomial.\n",
    "   - It adds flexibility by adjusting the influence of the dot product between the input vectors before applying the polynomial function.\n",
    "   - A **larger value of `coef0`** makes the kernel behave more like a **linear kernel** (since the dot product becomes less dominant compared to `coef0`), while a **smaller value of `coef0`** emphasizes the non-linear part of the polynomial function."
   ]
  },
  {
   "cell_type": "markdown",
   "metadata": {},
   "source": [
    "Code:"
   ]
  },
  {
   "cell_type": "code",
   "execution_count": 3,
   "metadata": {},
   "outputs": [],
   "source": [
    "def polynomial_kernel(x1, x2, degree=3, coef0=1):\n",
    "    return (np.dot(x1, x2) + coef0) ** degree"
   ]
  },
  {
   "cell_type": "markdown",
   "metadata": {},
   "source": [
    "### Gaussian RBF\n",
    "To implement the Gaussian Radial Basis Function (RBF) kernel, also known as the Gaussian kernel, you can add the following function to the KernelPerceptron class:\n",
    "\n",
    "Gaussian RBF Kernel Function\n",
    "The Gaussian RBF kernel is defined as:\n",
    "\n",
    "$$ K(\\mathbf{x}, \\mathbf{x}) = \\exp\\left(-\\gamma \\cdot \\|\\mathbf{x}_1 - \\mathbf{x}_2\\|^2\\right) $$\n",
    "where $\\gamma$ controls the spread of the influence of a single training example on the decision boundary.\n",
    "\n"
   ]
  },
  {
   "cell_type": "markdown",
   "metadata": {},
   "source": [
    "A **Gaussian** function is a function that takes the form of         $ f(x) = \\exp\\left(-x^2\\right) $\n",
    "The **Radial Basis Function** is a real valued function that depends on the distance between\n",
    "the input and a reference point.\n",
    "$$ \\gamma(\\mathbf{x}) = \\hat{\\gamma}(||\\mathbf{x}-\\mathbf{c}||)"
   ]
  },
  {
   "cell_type": "markdown",
   "metadata": {},
   "source": [
    "In matrix form:"
   ]
  },
  {
   "attachments": {
    "image-2.png": {
     "image/png": "[encoded data removed]"
    }
   },
   "cell_type": "markdown",
   "metadata": {},
   "source": [
    "![image-2.png](attachment:image-2.png)"
   ]
  },
  {
   "cell_type": "markdown",
   "metadata": {},
   "source": [
    "Code:"
   ]
  },
  {
   "cell_type": "code",
   "execution_count": 4,
   "metadata": {},
   "outputs": [],
   "source": [
    "def rbf_kernel(x1, x2, gamma=0.5):\n",
    "    return np.exp(-gamma * np.linalg.norm(x1 - x2) ** 2)"
   ]
  },
  {
   "cell_type": "markdown",
   "metadata": {},
   "source": [
    "Code:"
   ]
  },
  {
   "cell_type": "markdown",
   "metadata": {},
   "source": [
    "### 5. **Kernel Perceptron Implementation**"
   ]
  },
  {
   "cell_type": "markdown",
   "metadata": {},
   "source": [
    "### Explanation of the Code:\n",
    "1. **Initialization** (`__init__`):\n",
    "   - `kernel`: The kernel function to be used (default is the `linear_kernel`).\n",
    "   - `max_iter`: Maximum number of iterations the perceptron will run during training.\n",
    "   - `eta` : Learning rate for the weights.\n",
    "   - `kernel_params`: Any additional parameters for the kernel function are passed using `**kernel_params`.\n",
    "\n",
    "2. **Training the Model** (`fit`):\n",
    "   - Initializes the `alpha` values, which represent the importance of each data point in determining the decision boundary.\n",
    "   - The training process loops over the data for the specified number of iterations (`max_iter`). During each iteration, it predicts the label of each sample and updates the corresponding `alpha` if misclassified.\n",
    "\n",
    "3. **Making Predictions** (`predict`):\n",
    "   - Uses the trained `alpha` values and the kernel function to predict the label of new samples by comparing the similarity between the new samples and the support vectors (i.e., the training data).\n",
    "   - Returns an array of predictions for all test points.\n",
    "\n",
    "This kernel perceptron implementation allows for flexibility in using different kernels by passing them as functions, such as `linear_kernel`, `polynomial_kernel`, or `rbf_kernel`, with additional parameters."
   ]
  },
  {
   "cell_type": "code",
   "execution_count": 5,
   "metadata": {},
   "outputs": [],
   "source": [
    "# Kernel Perceptron Class\n",
    "class KernelPerceptron:\n",
    "    def __init__(self, kernel=linear_kernel, max_iter=100, eta = 1.0, **kernel_params):\n",
    "        # Initialize the kernel function (default is linear kernel)\n",
    "        self.kernel = kernel\n",
    "        # Set the maximum number of iterations for the learning process\n",
    "        self.max_iter = max_iter\n",
    "        # Store any additional kernel parameters passed\n",
    "        self.kernel_params = kernel_params\n",
    "        # Coefficient for learning rate\n",
    "        self.eta = eta\n",
    "\n",
    "    def fit(self, X, y):\n",
    "        # Initialize alpha (the weight of support vectors) to zeros\n",
    "        self.alpha = np.zeros(len(X))\n",
    "        # Store the training data (features and labels)\n",
    "        self.X_train = X\n",
    "        self.y_train = y\n",
    "        \n",
    "        # Perceptron learning loop (runs for the specified number of iterations)\n",
    "        for _ in range(self.max_iter):\n",
    "            # Loop over all training data points\n",
    "            for i in range(len(X)):\n",
    "                # Calculate the prediction for the current sample using the kernel function\n",
    "                # It sums over all support vectors, weighted by alpha, kernel similarity, and label\n",
    "                prediction = np.sign(np.sum([self.alpha[j] * y[j] * self.kernel(X[i], X[j], **self.kernel_params) \n",
    "                                             for j in range(len(X))]))\n",
    "                \n",
    "                # If the prediction is incorrect (i.e., misclassified), update alpha for the current sample\n",
    "                if prediction != y[i]:\n",
    "                    self.alpha[i] += self.eta  # Increment alpha for the misclassified sample\n",
    "\n",
    "    def predict(self, X):\n",
    "        # Predict the labels for new data points\n",
    "        y_pred = []\n",
    "        # Loop over the test data points\n",
    "        for x in X:\n",
    "            # Calculate the prediction by summing over the support vectors\n",
    "            prediction = np.sign(np.sum([self.alpha[i] * self.y_train[i] * self.kernel(x, self.X_train[i], **self.kernel_params)\n",
    "                                         for i in range(len(self.X_train))]))\n",
    "            # Append the prediction to the list of predictions\n",
    "            y_pred.append(prediction)\n",
    "        # Return the predictions as a numpy array\n",
    "        return np.array(y_pred)\n"
   ]
  },
  {
   "cell_type": "markdown",
   "metadata": {},
   "source": [
    "### 6. **Testing the functionality**"
   ]
  },
  {
   "cell_type": "markdown",
   "metadata": {},
   "source": [
    "We generate a simple dataset and test the code in order to make sure of the functionality of our implementation."
   ]
  },
  {
   "cell_type": "code",
   "execution_count": 33,
   "metadata": {},
   "outputs": [],
   "source": [
    "# Simple dataset\n",
    "X = np.array([[2, 3], [1, 1], [2, 0.5], [0.5, 1], [1, 0], [1.5, 1]])\n",
    "y = np.array([1, -1, 1, -1, 1, -1])  # Labels"
   ]
  },
  {
   "cell_type": "markdown",
   "metadata": {},
   "source": [
    "We now initialize our model and try every kernel to see if it works properly."
   ]
  },
  {
   "cell_type": "code",
   "execution_count": 34,
   "metadata": {},
   "outputs": [
    {
     "name": "stdout",
     "output_type": "stream",
     "text": [
      "Predictions: [-1. -1. -1. -1. -1. -1.]\n"
     ]
    }
   ],
   "source": [
    "# Train the Kernel Perceptron\n",
    "perceptron = KernelPerceptron(max_iter=10000,kernel=linear_kernel,eta=0.5)\n",
    "perceptron.fit(X, y)\n",
    "# Predict on the training data\n",
    "predictions = perceptron.predict(X)\n",
    "print(\"Predictions:\", predictions)"
   ]
  },
  {
   "cell_type": "code",
   "execution_count": 29,
   "metadata": {},
   "outputs": [
    {
     "name": "stdout",
     "output_type": "stream",
     "text": [
      "Predictions: [ 1. -1.  1. -1.  1. -1.]\n"
     ]
    }
   ],
   "source": [
    "# Train the Kernel Perceptron\n",
    "perceptron = KernelPerceptron(max_iter=1000,kernel=polynomial_kernel)\n",
    "perceptron.fit(X, y)\n",
    "# Predict on the training data\n",
    "predictions = perceptron.predict(X)\n",
    "print(\"Predictions:\", predictions)"
   ]
  },
  {
   "cell_type": "code",
   "execution_count": 30,
   "metadata": {},
   "outputs": [
    {
     "name": "stdout",
     "output_type": "stream",
     "text": [
      "Predictions: [ 1. -1.  1. -1.  1. -1.]\n"
     ]
    }
   ],
   "source": [
    "# Train the Kernel Perceptron\n",
    "perceptron = KernelPerceptron(max_iter=1000,kernel=rbf_kernel)\n",
    "perceptron.fit(X, y)\n",
    "# Predict on the training data\n",
    "predictions = perceptron.predict(X)\n",
    "print(\"Predictions:\", predictions)"
   ]
  },
  {
   "cell_type": "markdown",
   "metadata": {},
   "source": [
    "### 6. **Drawbacks of Kernel Perceptron**\n",
    "1. **Doesn't Always Find a Solution**:\n",
    "   - If the data isn't separable in the transformed space (even with the kernel), the kernel perceptron might not converge to a solution, or it may run indefinitely.\n",
    "\n",
    "2. **Dependence on Kernel Choice**:\n",
    "   - The performance is heavily influenced by the choice of the kernel and its parameters. Choosing the wrong kernel or parameters can lead to poor results. You will need domain  knowledge in order to pick the suitable kernel in order to make the model work properly, Which makes it a major drawback.\n",
    "\n",
    "3. **Computationally Expensive**:\n",
    "   - It can be slow, especially with large datasets or complex kernels, because it involves calculating distances or similarities between many pairs of data points.\n",
    "\n",
    "4. **Memory Usage**:\n",
    "   - The algorithm requires storing the entire dataset, which can be memory-intensive.\n",
    "\n",
    "5. **Overfitting Risk**:\n",
    "   - With high-degree polynomials or certain kernels, the model can become too complex and overfit the training data."
   ]
  }
 ],
 "metadata": {
  "kernelspec": {
   "display_name": "Python 3",
   "language": "python",
   "name": "python3"
  },
  "language_info": {
   "codemirror_mode": {
    "name": "ipython",
    "version": 3
   },
   "file_extension": ".py",
   "mimetype": "text/x-python",
   "name": "python",
   "nbconvert_exporter": "python",
   "pygments_lexer": "ipython3",
   "version": "3.11.9"
  }
 },
 "nbformat": 4,
 "nbformat_minor": 2
}
